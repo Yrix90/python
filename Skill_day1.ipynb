{
  "nbformat": 4,
  "nbformat_minor": 0,
  "metadata": {
    "colab": {
      "name": "Untitled0.ipynb",
      "provenance": [],
      "authorship_tag": "ABX9TyOc+hAb7YLG7316ujR6s0VX",
      "include_colab_link": true
    },
    "kernelspec": {
      "name": "python3",
      "display_name": "Python 3"
    }
  },
  "cells": [
    {
      "cell_type": "markdown",
      "metadata": {
        "id": "view-in-github",
        "colab_type": "text"
      },
      "source": [
        "<a href=\"https://colab.research.google.com/github/Yrix90/python/blob/master/Skill_day1.ipynb\" target=\"_parent\"><img src=\"https://colab.research.google.com/assets/colab-badge.svg\" alt=\"Open In Colab\"/></a>"
      ]
    },
    {
      "cell_type": "code",
      "metadata": {
        "id": "iQzRdOpXrzcw",
        "colab_type": "code",
        "colab": {
          "base_uri": "https://localhost:8080/",
          "height": 34
        },
        "outputId": "e2aa989a-2971-4155-bc80-60767decfa76"
      },
      "source": [
        "x = 5\n",
        "print(x)"
      ],
      "execution_count": 1,
      "outputs": [
        {
          "output_type": "stream",
          "text": [
            "5\n"
          ],
          "name": "stdout"
        }
      ]
    },
    {
      "cell_type": "code",
      "metadata": {
        "id": "-ZZLcz4rr7Eb",
        "colab_type": "code",
        "colab": {
          "base_uri": "https://localhost:8080/",
          "height": 34
        },
        "outputId": "f8cc4a7f-62e3-456c-90ad-941b623d5520"
      },
      "source": [
        "y = 6\n",
        "print(x + y)"
      ],
      "execution_count": 2,
      "outputs": [
        {
          "output_type": "stream",
          "text": [
            "11\n"
          ],
          "name": "stdout"
        }
      ]
    },
    {
      "cell_type": "code",
      "metadata": {
        "id": "POm1WHYWshyI",
        "colab_type": "code",
        "colab": {
          "base_uri": "https://localhost:8080/",
          "height": 34
        },
        "outputId": "0242d82a-b7b7-4cd8-92e1-aff89d22cbf9"
      },
      "source": [
        "array = [1, 'str', None]\n",
        "print(array)"
      ],
      "execution_count": 5,
      "outputs": [
        {
          "output_type": "stream",
          "text": [
            "[1, 'str', None]\n"
          ],
          "name": "stdout"
        }
      ]
    },
    {
      "cell_type": "code",
      "metadata": {
        "id": "veTp6SgJtJiv",
        "colab_type": "code",
        "colab": {}
      },
      "source": [
        "import pandas as pd\n",
        "import matplotlib.pyplot as plt"
      ],
      "execution_count": 0,
      "outputs": []
    },
    {
      "cell_type": "code",
      "metadata": {
        "id": "So5Gm_aMvw_x",
        "colab_type": "code",
        "colab": {
          "base_uri": "https://localhost:8080/",
          "height": 282
        },
        "outputId": "73f10b42-4989-4794-9f39-861dcf7398d6"
      },
      "source": [
        "plt.plot([1, 2, 3], [4, 6, 5])"
      ],
      "execution_count": 4,
      "outputs": [
        {
          "output_type": "execute_result",
          "data": {
            "text/plain": [
              "[<matplotlib.lines.Line2D at 0x7ff76d9b4710>]"
            ]
          },
          "metadata": {
            "tags": []
          },
          "execution_count": 4
        },
        {
          "output_type": "display_data",
          "data": {
            "image/png": "[encoded data removed]",
            "text/plain": [
              "<Figure size 432x288 with 1 Axes>"
            ]
          },
          "metadata": {
            "tags": [],
            "needs_background": "light"
          }
        }
      ]
    },
    {
      "cell_type": "code",
      "metadata": {
        "id": "qFEq0hxLw3EF",
        "colab_type": "code",
        "colab": {
          "base_uri": "https://localhost:8080/",
          "height": 1221
        },
        "outputId": "443605b7-cd00-4b86-d356-a40c77b0e87a"
      },
      "source": [
        "data = pd.read_excel('https://github.com/anastasiarazb/skillbox-data-analyst-intensive/blob/master/%D0%90%D0%BD%D0%B0%D0%BB%D0%B8%D0%B7%20%D0%B4%D0%B0%D0%BD%D0%BD%D1%8B%D1%85%20%D0%94%D0%B5%D0%BD%D1%8C%201/%D0%9C%D1%81%D0%BA_5%D0%BB%D0%B5%D1%82.xls?raw=true', skiprows = 6)\n",
        "data"
      ],
      "execution_count": 10,
      "outputs": [
        {
          "output_type": "execute_result",
          "data": {
            "text/html": [
              "<div>\n",
              "<style scoped>\n",
              "    .dataframe tbody tr th:only-of-type {\n",
              "        vertical-align: middle;\n",
              "    }\n",
              "\n",
              "    .dataframe tbody tr th {\n",
              "        vertical-align: top;\n",
              "    }\n",
              "\n",
              "    .dataframe thead th {\n",
              "        text-align: right;\n",
              "    }\n",
              "</style>\n",
              "<table border=\"1\" class=\"dataframe\">\n",
              "  <thead>\n",
              "    <tr style=\"text-align: right;\">\n",
              "      <th></th>\n",
              "      <th>Местное время в Москве (ВДНХ)</th>\n",
              "      <th>T</th>\n",
              "      <th>Po</th>\n",
              "      <th>P</th>\n",
              "      <th>Pa</th>\n",
              "      <th>U</th>\n",
              "      <th>DD</th>\n",
              "      <th>Ff</th>\n",
              "      <th>ff10</th>\n",
              "      <th>ff3</th>\n",
              "      <th>N</th>\n",
              "      <th>WW</th>\n",
              "      <th>W1</th>\n",
              "      <th>W2</th>\n",
              "      <th>Tn</th>\n",
              "      <th>Tx</th>\n",
              "      <th>Cl</th>\n",
              "      <th>Nh</th>\n",
              "      <th>H</th>\n",
              "      <th>Cm</th>\n",
              "      <th>Ch</th>\n",
              "      <th>VV</th>\n",
              "      <th>Td</th>\n",
              "      <th>RRR</th>\n",
              "      <th>tR</th>\n",
              "      <th>E</th>\n",
              "      <th>Tg</th>\n",
              "      <th>E'</th>\n",
              "      <th>sss</th>\n",
              "    </tr>\n",
              "  </thead>\n",
              "  <tbody>\n",
              "    <tr>\n",
              "      <th>0</th>\n",
              "      <td>01.01.2020 21:00</td>\n",
              "      <td>-1.9</td>\n",
              "      <td>745.5</td>\n",
              "      <td>760.4</td>\n",
              "      <td>0.3</td>\n",
              "      <td>83.0</td>\n",
              "      <td>Ветер, дующий с запада</td>\n",
              "      <td>1</td>\n",
              "      <td>NaN</td>\n",
              "      <td>NaN</td>\n",
              "      <td>100%.</td>\n",
              "      <td></td>\n",
              "      <td>NaN</td>\n",
              "      <td>NaN</td>\n",
              "      <td>NaN</td>\n",
              "      <td>0.0</td>\n",
              "      <td>Слоисто-кучевые, образовавшиеся не из кучевых.</td>\n",
              "      <td>100%.</td>\n",
              "      <td>600-1000</td>\n",
              "      <td>NaN</td>\n",
              "      <td>NaN</td>\n",
              "      <td>NaN</td>\n",
              "      <td>-4.5</td>\n",
              "      <td>Следы осадков</td>\n",
              "      <td>12.0</td>\n",
              "      <td>NaN</td>\n",
              "      <td>NaN</td>\n",
              "      <td>NaN</td>\n",
              "      <td>NaN</td>\n",
              "    </tr>\n",
              "    <tr>\n",
              "      <th>1</th>\n",
              "      <td>01.01.2020 18:00</td>\n",
              "      <td>-3.0</td>\n",
              "      <td>745.2</td>\n",
              "      <td>760.2</td>\n",
              "      <td>1.4</td>\n",
              "      <td>77.0</td>\n",
              "      <td>Ветер, дующий с западо-северо-запада</td>\n",
              "      <td>1</td>\n",
              "      <td>NaN</td>\n",
              "      <td>NaN</td>\n",
              "      <td>100%.</td>\n",
              "      <td></td>\n",
              "      <td>NaN</td>\n",
              "      <td>NaN</td>\n",
              "      <td>NaN</td>\n",
              "      <td>NaN</td>\n",
              "      <td>Слоисто-кучевые, образовавшиеся не из кучевых.</td>\n",
              "      <td>100%.</td>\n",
              "      <td>600-1000</td>\n",
              "      <td>NaN</td>\n",
              "      <td>NaN</td>\n",
              "      <td>NaN</td>\n",
              "      <td>-6.5</td>\n",
              "      <td>Следы осадков</td>\n",
              "      <td>12.0</td>\n",
              "      <td>NaN</td>\n",
              "      <td>NaN</td>\n",
              "      <td>NaN</td>\n",
              "      <td>NaN</td>\n",
              "    </tr>\n",
              "    <tr>\n",
              "      <th>2</th>\n",
              "      <td>01.01.2020 15:00</td>\n",
              "      <td>-2.3</td>\n",
              "      <td>743.8</td>\n",
              "      <td>758.8</td>\n",
              "      <td>1.4</td>\n",
              "      <td>71.0</td>\n",
              "      <td>Ветер, дующий с северо-северо-запада</td>\n",
              "      <td>2</td>\n",
              "      <td>NaN</td>\n",
              "      <td>NaN</td>\n",
              "      <td>50%.</td>\n",
              "      <td>Облака в целом рассеиваются или становятся мен...</td>\n",
              "      <td>Ливень (ливни).</td>\n",
              "      <td>Облака покрывали более половины неба в течение...</td>\n",
              "      <td>NaN</td>\n",
              "      <td>NaN</td>\n",
              "      <td>Слоисто-кучевые, образовавшиеся не из кучевых.</td>\n",
              "      <td>50%.</td>\n",
              "      <td>600-1000</td>\n",
              "      <td>Высококучевых, высокослоистых или слоисто-дожд...</td>\n",
              "      <td>Перистых, перисто-кучевых или перисто-слоистых...</td>\n",
              "      <td>10.0</td>\n",
              "      <td>-6.9</td>\n",
              "      <td>NaN</td>\n",
              "      <td>NaN</td>\n",
              "      <td>NaN</td>\n",
              "      <td>NaN</td>\n",
              "      <td>NaN</td>\n",
              "      <td>NaN</td>\n",
              "    </tr>\n",
              "    <tr>\n",
              "      <th>3</th>\n",
              "      <td>01.01.2020 12:00</td>\n",
              "      <td>-2.0</td>\n",
              "      <td>742.4</td>\n",
              "      <td>757.3</td>\n",
              "      <td>3.4</td>\n",
              "      <td>66.0</td>\n",
              "      <td>Ветер, дующий с севера</td>\n",
              "      <td>3</td>\n",
              "      <td>NaN</td>\n",
              "      <td>11.0</td>\n",
              "      <td>90  или более, но не 100%</td>\n",
              "      <td>Облака в целом образовывались или развивались.</td>\n",
              "      <td>Ливень (ливни).</td>\n",
              "      <td>Облака покрывали более половины неба в течение...</td>\n",
              "      <td>NaN</td>\n",
              "      <td>NaN</td>\n",
              "      <td>Слоисто-кучевые, образовавшиеся не из кучевых.</td>\n",
              "      <td>90  или более, но не 100%</td>\n",
              "      <td>600-1000</td>\n",
              "      <td>Высококучевых, высокослоистых или слоисто-дожд...</td>\n",
              "      <td>Перистых, перисто-кучевых или перисто-слоистых...</td>\n",
              "      <td>10.0</td>\n",
              "      <td>-7.5</td>\n",
              "      <td>NaN</td>\n",
              "      <td>NaN</td>\n",
              "      <td>NaN</td>\n",
              "      <td>NaN</td>\n",
              "      <td>NaN</td>\n",
              "      <td>NaN</td>\n",
              "    </tr>\n",
              "    <tr>\n",
              "      <th>4</th>\n",
              "      <td>01.01.2020 09:00</td>\n",
              "      <td>0.0</td>\n",
              "      <td>739.0</td>\n",
              "      <td>753.7</td>\n",
              "      <td>3.6</td>\n",
              "      <td>85.0</td>\n",
              "      <td>Ветер, дующий с северо-северо-запада</td>\n",
              "      <td>3</td>\n",
              "      <td>NaN</td>\n",
              "      <td>10.0</td>\n",
              "      <td>100%.</td>\n",
              "      <td>Состояние неба в общем не изменилось.</td>\n",
              "      <td>Ливень (ливни).</td>\n",
              "      <td>Облака покрывали более половины неба в течение...</td>\n",
              "      <td>-0.1</td>\n",
              "      <td>NaN</td>\n",
              "      <td>Слоисто-кучевые, образовавшиеся не из кучевых.</td>\n",
              "      <td>100%.</td>\n",
              "      <td>600-1000</td>\n",
              "      <td>NaN</td>\n",
              "      <td>NaN</td>\n",
              "      <td>10.0</td>\n",
              "      <td>-2.3</td>\n",
              "      <td>0.9</td>\n",
              "      <td>12.0</td>\n",
              "      <td>NaN</td>\n",
              "      <td>NaN</td>\n",
              "      <td>Ровный слой слежавшегося или мокрого снега пок...</td>\n",
              "      <td>1</td>\n",
              "    </tr>\n",
              "    <tr>\n",
              "      <th>...</th>\n",
              "      <td>...</td>\n",
              "      <td>...</td>\n",
              "      <td>...</td>\n",
              "      <td>...</td>\n",
              "      <td>...</td>\n",
              "      <td>...</td>\n",
              "      <td>...</td>\n",
              "      <td>...</td>\n",
              "      <td>...</td>\n",
              "      <td>...</td>\n",
              "      <td>...</td>\n",
              "      <td>...</td>\n",
              "      <td>...</td>\n",
              "      <td>...</td>\n",
              "      <td>...</td>\n",
              "      <td>...</td>\n",
              "      <td>...</td>\n",
              "      <td>...</td>\n",
              "      <td>...</td>\n",
              "      <td>...</td>\n",
              "      <td>...</td>\n",
              "      <td>...</td>\n",
              "      <td>...</td>\n",
              "      <td>...</td>\n",
              "      <td>...</td>\n",
              "      <td>...</td>\n",
              "      <td>...</td>\n",
              "      <td>...</td>\n",
              "      <td>...</td>\n",
              "    </tr>\n",
              "    <tr>\n",
              "      <th>17642</th>\n",
              "      <td>01.01.2015 04:00</td>\n",
              "      <td>-5.1</td>\n",
              "      <td>742.7</td>\n",
              "      <td>757.8</td>\n",
              "      <td>-0.2</td>\n",
              "      <td>94.0</td>\n",
              "      <td>Ветер, дующий с запада</td>\n",
              "      <td>1</td>\n",
              "      <td>NaN</td>\n",
              "      <td>NaN</td>\n",
              "      <td>NaN</td>\n",
              "      <td></td>\n",
              "      <td>NaN</td>\n",
              "      <td>NaN</td>\n",
              "      <td>NaN</td>\n",
              "      <td>NaN</td>\n",
              "      <td>NaN</td>\n",
              "      <td>NaN</td>\n",
              "      <td>NaN</td>\n",
              "      <td>NaN</td>\n",
              "      <td>NaN</td>\n",
              "      <td>NaN</td>\n",
              "      <td>-5.9</td>\n",
              "      <td>NaN</td>\n",
              "      <td>NaN</td>\n",
              "      <td>NaN</td>\n",
              "      <td>NaN</td>\n",
              "      <td>NaN</td>\n",
              "      <td>NaN</td>\n",
              "    </tr>\n",
              "    <tr>\n",
              "      <th>17643</th>\n",
              "      <td>01.01.2015 03:00</td>\n",
              "      <td>-5.5</td>\n",
              "      <td>742.7</td>\n",
              "      <td>757.8</td>\n",
              "      <td>-0.5</td>\n",
              "      <td>92.0</td>\n",
              "      <td>Ветер, дующий с запада</td>\n",
              "      <td>2</td>\n",
              "      <td>NaN</td>\n",
              "      <td>NaN</td>\n",
              "      <td>100%.</td>\n",
              "      <td>Снег непрерывный слабый в срок наблюдения.  Ди...</td>\n",
              "      <td>Снег или дождь со снегом.</td>\n",
              "      <td>Морось.</td>\n",
              "      <td>NaN</td>\n",
              "      <td>NaN</td>\n",
              "      <td>Слоисто-кучевые, образовавшиеся не из кучевых.</td>\n",
              "      <td>100%.</td>\n",
              "      <td>600-1000</td>\n",
              "      <td>NaN</td>\n",
              "      <td>NaN</td>\n",
              "      <td>NaN</td>\n",
              "      <td>-6.6</td>\n",
              "      <td>NaN</td>\n",
              "      <td>NaN</td>\n",
              "      <td>NaN</td>\n",
              "      <td>NaN</td>\n",
              "      <td>NaN</td>\n",
              "      <td>NaN</td>\n",
              "    </tr>\n",
              "    <tr>\n",
              "      <th>17644</th>\n",
              "      <td>01.01.2015 02:00</td>\n",
              "      <td>-5.9</td>\n",
              "      <td>742.9</td>\n",
              "      <td>758.0</td>\n",
              "      <td>-0.5</td>\n",
              "      <td>93.0</td>\n",
              "      <td>Ветер, дующий с запада</td>\n",
              "      <td>1</td>\n",
              "      <td>NaN</td>\n",
              "      <td>NaN</td>\n",
              "      <td>NaN</td>\n",
              "      <td></td>\n",
              "      <td>NaN</td>\n",
              "      <td>NaN</td>\n",
              "      <td>NaN</td>\n",
              "      <td>NaN</td>\n",
              "      <td>NaN</td>\n",
              "      <td>NaN</td>\n",
              "      <td>NaN</td>\n",
              "      <td>NaN</td>\n",
              "      <td>NaN</td>\n",
              "      <td>NaN</td>\n",
              "      <td>-6.9</td>\n",
              "      <td>NaN</td>\n",
              "      <td>NaN</td>\n",
              "      <td>NaN</td>\n",
              "      <td>NaN</td>\n",
              "      <td>NaN</td>\n",
              "      <td>NaN</td>\n",
              "    </tr>\n",
              "    <tr>\n",
              "      <th>17645</th>\n",
              "      <td>01.01.2015 01:00</td>\n",
              "      <td>-6.2</td>\n",
              "      <td>742.9</td>\n",
              "      <td>758.0</td>\n",
              "      <td>-0.7</td>\n",
              "      <td>92.0</td>\n",
              "      <td>Ветер, дующий с западо-юго-запада</td>\n",
              "      <td>1</td>\n",
              "      <td>NaN</td>\n",
              "      <td>NaN</td>\n",
              "      <td>NaN</td>\n",
              "      <td></td>\n",
              "      <td>NaN</td>\n",
              "      <td>NaN</td>\n",
              "      <td>NaN</td>\n",
              "      <td>NaN</td>\n",
              "      <td>NaN</td>\n",
              "      <td>NaN</td>\n",
              "      <td>NaN</td>\n",
              "      <td>NaN</td>\n",
              "      <td>NaN</td>\n",
              "      <td>NaN</td>\n",
              "      <td>-7.3</td>\n",
              "      <td>NaN</td>\n",
              "      <td>NaN</td>\n",
              "      <td>NaN</td>\n",
              "      <td>NaN</td>\n",
              "      <td>NaN</td>\n",
              "      <td>NaN</td>\n",
              "    </tr>\n",
              "    <tr>\n",
              "      <th>17646</th>\n",
              "      <td>01.01.2015 00:00</td>\n",
              "      <td>-6.6</td>\n",
              "      <td>743.2</td>\n",
              "      <td>758.4</td>\n",
              "      <td>-0.7</td>\n",
              "      <td>93.0</td>\n",
              "      <td>Ветер, дующий с западо-юго-запада</td>\n",
              "      <td>2</td>\n",
              "      <td>NaN</td>\n",
              "      <td>NaN</td>\n",
              "      <td>100%.</td>\n",
              "      <td>Морось (незамерзающая) или снежные зерна нелив...</td>\n",
              "      <td>Снег или дождь со снегом.</td>\n",
              "      <td>Морось.</td>\n",
              "      <td>NaN</td>\n",
              "      <td>NaN</td>\n",
              "      <td>Слоисто-кучевые, образовавшиеся не из кучевых.</td>\n",
              "      <td>100%.</td>\n",
              "      <td>300-600</td>\n",
              "      <td>NaN</td>\n",
              "      <td>NaN</td>\n",
              "      <td>NaN</td>\n",
              "      <td>-7.5</td>\n",
              "      <td>NaN</td>\n",
              "      <td>NaN</td>\n",
              "      <td>NaN</td>\n",
              "      <td>NaN</td>\n",
              "      <td>NaN</td>\n",
              "      <td>NaN</td>\n",
              "    </tr>\n",
              "  </tbody>\n",
              "</table>\n",
              "<p>17647 rows × 29 columns</p>\n",
              "</div>"
            ],
            "text/plain": [
              "      Местное время в Москве (ВДНХ)  ...  sss\n",
              "0                  01.01.2020 21:00  ...  NaN\n",
              "1                  01.01.2020 18:00  ...  NaN\n",
              "2                  01.01.2020 15:00  ...  NaN\n",
              "3                  01.01.2020 12:00  ...  NaN\n",
              "4                  01.01.2020 09:00  ...    1\n",
              "...                             ...  ...  ...\n",
              "17642              01.01.2015 04:00  ...  NaN\n",
              "17643              01.01.2015 03:00  ...  NaN\n",
              "17644              01.01.2015 02:00  ...  NaN\n",
              "17645              01.01.2015 01:00  ...  NaN\n",
              "17646              01.01.2015 00:00  ...  NaN\n",
              "\n",
              "[17647 rows x 29 columns]"
            ]
          },
          "metadata": {
            "tags": []
          },
          "execution_count": 10
        }
      ]
    },
    {
      "cell_type": "code",
      "metadata": {
        "id": "lth3GYe4bBPa",
        "colab_type": "code",
        "colab": {
          "base_uri": "https://localhost:8080/",
          "height": 85
        },
        "outputId": "ad4974f4-4e4f-47cc-977f-765f4bc45c8c"
      },
      "source": [
        "data.index\n",
        "data.columns"
      ],
      "execution_count": 12,
      "outputs": [
        {
          "output_type": "execute_result",
          "data": {
            "text/plain": [
              "Index(['Местное время в Москве (ВДНХ)', 'T', 'Po', 'P', 'Pa', 'U', 'DD', 'Ff',\n",
              "       'ff10', 'ff3', 'N', 'WW', 'W1', 'W2', 'Tn', 'Tx', 'Cl', 'Nh', 'H', 'Cm',\n",
              "       'Ch', 'VV', 'Td', 'RRR', 'tR', 'E', 'Tg', 'E'', 'sss'],\n",
              "      dtype='object')"
            ]
          },
          "metadata": {
            "tags": []
          },
          "execution_count": 12
        }
      ]
    },
    {
      "cell_type": "markdown",
      "metadata": {
        "id": "TgVTDjufbAzk",
        "colab_type": "text"
      },
      "source": [
        ""
      ]
    },
    {
      "cell_type": "code",
      "metadata": {
        "id": "7vL6qZZAbfDY",
        "colab_type": "code",
        "colab": {
          "base_uri": "https://localhost:8080/",
          "height": 282
        },
        "outputId": "852591dd-842b-4043-ab90-ebc2fd934d48"
      },
      "source": [
        "plt.plot(data.index, data['T'])"
      ],
      "execution_count": 22,
      "outputs": [
        {
          "output_type": "execute_result",
          "data": {
            "text/plain": [
              "[<matplotlib.lines.Line2D at 0x7ff76b034780>]"
            ]
          },
          "metadata": {
            "tags": []
          },
          "execution_count": 22
        },
        {
          "output_type": "display_data",
          "data": {
            "image/png": "[encoded data removed]",
            "text/plain": [
              "<Figure size 432x288 with 1 Axes>"
            ]
          },
          "metadata": {
            "tags": [],
            "needs_background": "light"
          }
        }
      ]
    },
    {
      "cell_type": "code",
      "metadata": {
        "id": "Y57ss0gXcDYL",
        "colab_type": "code",
        "colab": {
          "base_uri": "https://localhost:8080/",
          "height": 34
        },
        "outputId": "56d01763-b94e-4185-d1f7-e9d44c8d13ff"
      },
      "source": [
        "data['Местное время в Москве (ВДНХ)'][100]"
      ],
      "execution_count": 20,
      "outputs": [
        {
          "output_type": "execute_result",
          "data": {
            "text/plain": [
              "'20.12.2019 09:00'"
            ]
          },
          "metadata": {
            "tags": []
          },
          "execution_count": 20
        }
      ]
    },
    {
      "cell_type": "code",
      "metadata": {
        "id": "qT7cSo4lcI9X",
        "colab_type": "code",
        "colab": {
          "base_uri": "https://localhost:8080/",
          "height": 221
        },
        "outputId": "871f95b3-7673-4dce-934e-c6ab1383f751"
      },
      "source": [
        "pd.to_datetime(data['Местное время в Москве (ВДНХ)'], dayfirst = True)"
      ],
      "execution_count": 19,
      "outputs": [
        {
          "output_type": "execute_result",
          "data": {
            "text/plain": [
              "0       2020-01-01 21:00:00\n",
              "1       2020-01-01 18:00:00\n",
              "2       2020-01-01 15:00:00\n",
              "3       2020-01-01 12:00:00\n",
              "4       2020-01-01 09:00:00\n",
              "                ...        \n",
              "17642   2015-01-01 04:00:00\n",
              "17643   2015-01-01 03:00:00\n",
              "17644   2015-01-01 02:00:00\n",
              "17645   2015-01-01 01:00:00\n",
              "17646   2015-01-01 00:00:00\n",
              "Name: Местное время в Москве (ВДНХ), Length: 17647, dtype: datetime64[ns]"
            ]
          },
          "metadata": {
            "tags": []
          },
          "execution_count": 19
        }
      ]
    },
    {
      "cell_type": "code",
      "metadata": {
        "id": "kWXlhaa4dGHE",
        "colab_type": "code",
        "colab": {
          "base_uri": "https://localhost:8080/",
          "height": 282
        },
        "outputId": "3c7c51ef-c045-4098-a1bb-018e6b36fcc3"
      },
      "source": [
        "plt.plot(pd.to_datetime(data['Местное время в Москве (ВДНХ)'], dayfirst = True), data['T'])   #Параметр преобразования даты dayfirst = True"
      ],
      "execution_count": 26,
      "outputs": [
        {
          "output_type": "execute_result",
          "data": {
            "text/plain": [
              "[<matplotlib.lines.Line2D at 0x7ff76c47b0f0>]"
            ]
          },
          "metadata": {
            "tags": []
          },
          "execution_count": 26
        },
        {
          "output_type": "display_data",
          "data": {
            "image/png": "[encoded data removed]",
            "text/plain": [
              "<Figure size 432x288 with 1 Axes>"
            ]
          },
          "metadata": {
            "tags": [],
            "needs_background": "light"
          }
        }
      ]
    },
    {
      "cell_type": "code",
      "metadata": {
        "id": "Dwf2WopFdnqQ",
        "colab_type": "code",
        "colab": {
          "base_uri": "https://localhost:8080/",
          "height": 1303
        },
        "outputId": "d94b7692-cc07-457a-bc64-ca387a5dff8e"
      },
      "source": [
        "# Перезапишем индекс с нумерации строк на даты\n",
        "data.index = dayfirst = pd.to_datetime(data['Местное время в Москве (ВДНХ)'], dayfirst = True)\n",
        "data"
      ],
      "execution_count": 28,
      "outputs": [
        {
          "output_type": "execute_result",
          "data": {
            "text/html": [
              "<div>\n",
              "<style scoped>\n",
              "    .dataframe tbody tr th:only-of-type {\n",
              "        vertical-align: middle;\n",
              "    }\n",
              "\n",
              "    .dataframe tbody tr th {\n",
              "        vertical-align: top;\n",
              "    }\n",
              "\n",
              "    .dataframe thead th {\n",
              "        text-align: right;\n",
              "    }\n",
              "</style>\n",
              "<table border=\"1\" class=\"dataframe\">\n",
              "  <thead>\n",
              "    <tr style=\"text-align: right;\">\n",
              "      <th></th>\n",
              "      <th>Местное время в Москве (ВДНХ)</th>\n",
              "      <th>T</th>\n",
              "      <th>Po</th>\n",
              "      <th>P</th>\n",
              "      <th>Pa</th>\n",
              "      <th>U</th>\n",
              "      <th>DD</th>\n",
              "      <th>Ff</th>\n",
              "      <th>ff10</th>\n",
              "      <th>ff3</th>\n",
              "      <th>N</th>\n",
              "      <th>WW</th>\n",
              "      <th>W1</th>\n",
              "      <th>W2</th>\n",
              "      <th>Tn</th>\n",
              "      <th>Tx</th>\n",
              "      <th>Cl</th>\n",
              "      <th>Nh</th>\n",
              "      <th>H</th>\n",
              "      <th>Cm</th>\n",
              "      <th>Ch</th>\n",
              "      <th>VV</th>\n",
              "      <th>Td</th>\n",
              "      <th>RRR</th>\n",
              "      <th>tR</th>\n",
              "      <th>E</th>\n",
              "      <th>Tg</th>\n",
              "      <th>E'</th>\n",
              "      <th>sss</th>\n",
              "    </tr>\n",
              "    <tr>\n",
              "      <th>Местное время в Москве (ВДНХ)</th>\n",
              "      <th></th>\n",
              "      <th></th>\n",
              "      <th></th>\n",
              "      <th></th>\n",
              "      <th></th>\n",
              "      <th></th>\n",
              "      <th></th>\n",
              "      <th></th>\n",
              "      <th></th>\n",
              "      <th></th>\n",
              "      <th></th>\n",
              "      <th></th>\n",
              "      <th></th>\n",
              "      <th></th>\n",
              "      <th></th>\n",
              "      <th></th>\n",
              "      <th></th>\n",
              "      <th></th>\n",
              "      <th></th>\n",
              "      <th></th>\n",
              "      <th></th>\n",
              "      <th></th>\n",
              "      <th></th>\n",
              "      <th></th>\n",
              "      <th></th>\n",
              "      <th></th>\n",
              "      <th></th>\n",
              "      <th></th>\n",
              "      <th></th>\n",
              "    </tr>\n",
              "  </thead>\n",
              "  <tbody>\n",
              "    <tr>\n",
              "      <th>2020-01-01 21:00:00</th>\n",
              "      <td>01.01.2020 21:00</td>\n",
              "      <td>-1.9</td>\n",
              "      <td>745.5</td>\n",
              "      <td>760.4</td>\n",
              "      <td>0.3</td>\n",
              "      <td>83.0</td>\n",
              "      <td>Ветер, дующий с запада</td>\n",
              "      <td>1</td>\n",
              "      <td>NaN</td>\n",
              "      <td>NaN</td>\n",
              "      <td>100%.</td>\n",
              "      <td></td>\n",
              "      <td>NaN</td>\n",
              "      <td>NaN</td>\n",
              "      <td>NaN</td>\n",
              "      <td>0.0</td>\n",
              "      <td>Слоисто-кучевые, образовавшиеся не из кучевых.</td>\n",
              "      <td>100%.</td>\n",
              "      <td>600-1000</td>\n",
              "      <td>NaN</td>\n",
              "      <td>NaN</td>\n",
              "      <td>NaN</td>\n",
              "      <td>-4.5</td>\n",
              "      <td>Следы осадков</td>\n",
              "      <td>12.0</td>\n",
              "      <td>NaN</td>\n",
              "      <td>NaN</td>\n",
              "      <td>NaN</td>\n",
              "      <td>NaN</td>\n",
              "    </tr>\n",
              "    <tr>\n",
              "      <th>2020-01-01 18:00:00</th>\n",
              "      <td>01.01.2020 18:00</td>\n",
              "      <td>-3.0</td>\n",
              "      <td>745.2</td>\n",
              "      <td>760.2</td>\n",
              "      <td>1.4</td>\n",
              "      <td>77.0</td>\n",
              "      <td>Ветер, дующий с западо-северо-запада</td>\n",
              "      <td>1</td>\n",
              "      <td>NaN</td>\n",
              "      <td>NaN</td>\n",
              "      <td>100%.</td>\n",
              "      <td></td>\n",
              "      <td>NaN</td>\n",
              "      <td>NaN</td>\n",
              "      <td>NaN</td>\n",
              "      <td>NaN</td>\n",
              "      <td>Слоисто-кучевые, образовавшиеся не из кучевых.</td>\n",
              "      <td>100%.</td>\n",
              "      <td>600-1000</td>\n",
              "      <td>NaN</td>\n",
              "      <td>NaN</td>\n",
              "      <td>NaN</td>\n",
              "      <td>-6.5</td>\n",
              "      <td>Следы осадков</td>\n",
              "      <td>12.0</td>\n",
              "      <td>NaN</td>\n",
              "      <td>NaN</td>\n",
              "      <td>NaN</td>\n",
              "      <td>NaN</td>\n",
              "    </tr>\n",
              "    <tr>\n",
              "      <th>2020-01-01 15:00:00</th>\n",
              "      <td>01.01.2020 15:00</td>\n",
              "      <td>-2.3</td>\n",
              "      <td>743.8</td>\n",
              "      <td>758.8</td>\n",
              "      <td>1.4</td>\n",
              "      <td>71.0</td>\n",
              "      <td>Ветер, дующий с северо-северо-запада</td>\n",
              "      <td>2</td>\n",
              "      <td>NaN</td>\n",
              "      <td>NaN</td>\n",
              "      <td>50%.</td>\n",
              "      <td>Облака в целом рассеиваются или становятся мен...</td>\n",
              "      <td>Ливень (ливни).</td>\n",
              "      <td>Облака покрывали более половины неба в течение...</td>\n",
              "      <td>NaN</td>\n",
              "      <td>NaN</td>\n",
              "      <td>Слоисто-кучевые, образовавшиеся не из кучевых.</td>\n",
              "      <td>50%.</td>\n",
              "      <td>600-1000</td>\n",
              "      <td>Высококучевых, высокослоистых или слоисто-дожд...</td>\n",
              "      <td>Перистых, перисто-кучевых или перисто-слоистых...</td>\n",
              "      <td>10.0</td>\n",
              "      <td>-6.9</td>\n",
              "      <td>NaN</td>\n",
              "      <td>NaN</td>\n",
              "      <td>NaN</td>\n",
              "      <td>NaN</td>\n",
              "      <td>NaN</td>\n",
              "      <td>NaN</td>\n",
              "    </tr>\n",
              "    <tr>\n",
              "      <th>2020-01-01 12:00:00</th>\n",
              "      <td>01.01.2020 12:00</td>\n",
              "      <td>-2.0</td>\n",
              "      <td>742.4</td>\n",
              "      <td>757.3</td>\n",
              "      <td>3.4</td>\n",
              "      <td>66.0</td>\n",
              "      <td>Ветер, дующий с севера</td>\n",
              "      <td>3</td>\n",
              "      <td>NaN</td>\n",
              "      <td>11.0</td>\n",
              "      <td>90  или более, но не 100%</td>\n",
              "      <td>Облака в целом образовывались или развивались.</td>\n",
              "      <td>Ливень (ливни).</td>\n",
              "      <td>Облака покрывали более половины неба в течение...</td>\n",
              "      <td>NaN</td>\n",
              "      <td>NaN</td>\n",
              "      <td>Слоисто-кучевые, образовавшиеся не из кучевых.</td>\n",
              "      <td>90  или более, но не 100%</td>\n",
              "      <td>600-1000</td>\n",
              "      <td>Высококучевых, высокослоистых или слоисто-дожд...</td>\n",
              "      <td>Перистых, перисто-кучевых или перисто-слоистых...</td>\n",
              "      <td>10.0</td>\n",
              "      <td>-7.5</td>\n",
              "      <td>NaN</td>\n",
              "      <td>NaN</td>\n",
              "      <td>NaN</td>\n",
              "      <td>NaN</td>\n",
              "      <td>NaN</td>\n",
              "      <td>NaN</td>\n",
              "    </tr>\n",
              "    <tr>\n",
              "      <th>2020-01-01 09:00:00</th>\n",
              "      <td>01.01.2020 09:00</td>\n",
              "      <td>0.0</td>\n",
              "      <td>739.0</td>\n",
              "      <td>753.7</td>\n",
              "      <td>3.6</td>\n",
              "      <td>85.0</td>\n",
              "      <td>Ветер, дующий с северо-северо-запада</td>\n",
              "      <td>3</td>\n",
              "      <td>NaN</td>\n",
              "      <td>10.0</td>\n",
              "      <td>100%.</td>\n",
              "      <td>Состояние неба в общем не изменилось.</td>\n",
              "      <td>Ливень (ливни).</td>\n",
              "      <td>Облака покрывали более половины неба в течение...</td>\n",
              "      <td>-0.1</td>\n",
              "      <td>NaN</td>\n",
              "      <td>Слоисто-кучевые, образовавшиеся не из кучевых.</td>\n",
              "      <td>100%.</td>\n",
              "      <td>600-1000</td>\n",
              "      <td>NaN</td>\n",
              "      <td>NaN</td>\n",
              "      <td>10.0</td>\n",
              "      <td>-2.3</td>\n",
              "      <td>0.9</td>\n",
              "      <td>12.0</td>\n",
              "      <td>NaN</td>\n",
              "      <td>NaN</td>\n",
              "      <td>Ровный слой слежавшегося или мокрого снега пок...</td>\n",
              "      <td>1</td>\n",
              "    </tr>\n",
              "    <tr>\n",
              "      <th>...</th>\n",
              "      <td>...</td>\n",
              "      <td>...</td>\n",
              "      <td>...</td>\n",
              "      <td>...</td>\n",
              "      <td>...</td>\n",
              "      <td>...</td>\n",
              "      <td>...</td>\n",
              "      <td>...</td>\n",
              "      <td>...</td>\n",
              "      <td>...</td>\n",
              "      <td>...</td>\n",
              "      <td>...</td>\n",
              "      <td>...</td>\n",
              "      <td>...</td>\n",
              "      <td>...</td>\n",
              "      <td>...</td>\n",
              "      <td>...</td>\n",
              "      <td>...</td>\n",
              "      <td>...</td>\n",
              "      <td>...</td>\n",
              "      <td>...</td>\n",
              "      <td>...</td>\n",
              "      <td>...</td>\n",
              "      <td>...</td>\n",
              "      <td>...</td>\n",
              "      <td>...</td>\n",
              "      <td>...</td>\n",
              "      <td>...</td>\n",
              "      <td>...</td>\n",
              "    </tr>\n",
              "    <tr>\n",
              "      <th>2015-01-01 04:00:00</th>\n",
              "      <td>01.01.2015 04:00</td>\n",
              "      <td>-5.1</td>\n",
              "      <td>742.7</td>\n",
              "      <td>757.8</td>\n",
              "      <td>-0.2</td>\n",
              "      <td>94.0</td>\n",
              "      <td>Ветер, дующий с запада</td>\n",
              "      <td>1</td>\n",
              "      <td>NaN</td>\n",
              "      <td>NaN</td>\n",
              "      <td>NaN</td>\n",
              "      <td></td>\n",
              "      <td>NaN</td>\n",
              "      <td>NaN</td>\n",
              "      <td>NaN</td>\n",
              "      <td>NaN</td>\n",
              "      <td>NaN</td>\n",
              "      <td>NaN</td>\n",
              "      <td>NaN</td>\n",
              "      <td>NaN</td>\n",
              "      <td>NaN</td>\n",
              "      <td>NaN</td>\n",
              "      <td>-5.9</td>\n",
              "      <td>NaN</td>\n",
              "      <td>NaN</td>\n",
              "      <td>NaN</td>\n",
              "      <td>NaN</td>\n",
              "      <td>NaN</td>\n",
              "      <td>NaN</td>\n",
              "    </tr>\n",
              "    <tr>\n",
              "      <th>2015-01-01 03:00:00</th>\n",
              "      <td>01.01.2015 03:00</td>\n",
              "      <td>-5.5</td>\n",
              "      <td>742.7</td>\n",
              "      <td>757.8</td>\n",
              "      <td>-0.5</td>\n",
              "      <td>92.0</td>\n",
              "      <td>Ветер, дующий с запада</td>\n",
              "      <td>2</td>\n",
              "      <td>NaN</td>\n",
              "      <td>NaN</td>\n",
              "      <td>100%.</td>\n",
              "      <td>Снег непрерывный слабый в срок наблюдения.  Ди...</td>\n",
              "      <td>Снег или дождь со снегом.</td>\n",
              "      <td>Морось.</td>\n",
              "      <td>NaN</td>\n",
              "      <td>NaN</td>\n",
              "      <td>Слоисто-кучевые, образовавшиеся не из кучевых.</td>\n",
              "      <td>100%.</td>\n",
              "      <td>600-1000</td>\n",
              "      <td>NaN</td>\n",
              "      <td>NaN</td>\n",
              "      <td>NaN</td>\n",
              "      <td>-6.6</td>\n",
              "      <td>NaN</td>\n",
              "      <td>NaN</td>\n",
              "      <td>NaN</td>\n",
              "      <td>NaN</td>\n",
              "      <td>NaN</td>\n",
              "      <td>NaN</td>\n",
              "    </tr>\n",
              "    <tr>\n",
              "      <th>2015-01-01 02:00:00</th>\n",
              "      <td>01.01.2015 02:00</td>\n",
              "      <td>-5.9</td>\n",
              "      <td>742.9</td>\n",
              "      <td>758.0</td>\n",
              "      <td>-0.5</td>\n",
              "      <td>93.0</td>\n",
              "      <td>Ветер, дующий с запада</td>\n",
              "      <td>1</td>\n",
              "      <td>NaN</td>\n",
              "      <td>NaN</td>\n",
              "      <td>NaN</td>\n",
              "      <td></td>\n",
              "      <td>NaN</td>\n",
              "      <td>NaN</td>\n",
              "      <td>NaN</td>\n",
              "      <td>NaN</td>\n",
              "      <td>NaN</td>\n",
              "      <td>NaN</td>\n",
              "      <td>NaN</td>\n",
              "      <td>NaN</td>\n",
              "      <td>NaN</td>\n",
              "      <td>NaN</td>\n",
              "      <td>-6.9</td>\n",
              "      <td>NaN</td>\n",
              "      <td>NaN</td>\n",
              "      <td>NaN</td>\n",
              "      <td>NaN</td>\n",
              "      <td>NaN</td>\n",
              "      <td>NaN</td>\n",
              "    </tr>\n",
              "    <tr>\n",
              "      <th>2015-01-01 01:00:00</th>\n",
              "      <td>01.01.2015 01:00</td>\n",
              "      <td>-6.2</td>\n",
              "      <td>742.9</td>\n",
              "      <td>758.0</td>\n",
              "      <td>-0.7</td>\n",
              "      <td>92.0</td>\n",
              "      <td>Ветер, дующий с западо-юго-запада</td>\n",
              "      <td>1</td>\n",
              "      <td>NaN</td>\n",
              "      <td>NaN</td>\n",
              "      <td>NaN</td>\n",
              "      <td></td>\n",
              "      <td>NaN</td>\n",
              "      <td>NaN</td>\n",
              "      <td>NaN</td>\n",
              "      <td>NaN</td>\n",
              "      <td>NaN</td>\n",
              "      <td>NaN</td>\n",
              "      <td>NaN</td>\n",
              "      <td>NaN</td>\n",
              "      <td>NaN</td>\n",
              "      <td>NaN</td>\n",
              "      <td>-7.3</td>\n",
              "      <td>NaN</td>\n",
              "      <td>NaN</td>\n",
              "      <td>NaN</td>\n",
              "      <td>NaN</td>\n",
              "      <td>NaN</td>\n",
              "      <td>NaN</td>\n",
              "    </tr>\n",
              "    <tr>\n",
              "      <th>2015-01-01 00:00:00</th>\n",
              "      <td>01.01.2015 00:00</td>\n",
              "      <td>-6.6</td>\n",
              "      <td>743.2</td>\n",
              "      <td>758.4</td>\n",
              "      <td>-0.7</td>\n",
              "      <td>93.0</td>\n",
              "      <td>Ветер, дующий с западо-юго-запада</td>\n",
              "      <td>2</td>\n",
              "      <td>NaN</td>\n",
              "      <td>NaN</td>\n",
              "      <td>100%.</td>\n",
              "      <td>Морось (незамерзающая) или снежные зерна нелив...</td>\n",
              "      <td>Снег или дождь со снегом.</td>\n",
              "      <td>Морось.</td>\n",
              "      <td>NaN</td>\n",
              "      <td>NaN</td>\n",
              "      <td>Слоисто-кучевые, образовавшиеся не из кучевых.</td>\n",
              "      <td>100%.</td>\n",
              "      <td>300-600</td>\n",
              "      <td>NaN</td>\n",
              "      <td>NaN</td>\n",
              "      <td>NaN</td>\n",
              "      <td>-7.5</td>\n",
              "      <td>NaN</td>\n",
              "      <td>NaN</td>\n",
              "      <td>NaN</td>\n",
              "      <td>NaN</td>\n",
              "      <td>NaN</td>\n",
              "      <td>NaN</td>\n",
              "    </tr>\n",
              "  </tbody>\n",
              "</table>\n",
              "<p>17647 rows × 29 columns</p>\n",
              "</div>"
            ],
            "text/plain": [
              "                              Местное время в Москве (ВДНХ)  ...  sss\n",
              "Местное время в Москве (ВДНХ)                                ...     \n",
              "2020-01-01 21:00:00                        01.01.2020 21:00  ...  NaN\n",
              "2020-01-01 18:00:00                        01.01.2020 18:00  ...  NaN\n",
              "2020-01-01 15:00:00                        01.01.2020 15:00  ...  NaN\n",
              "2020-01-01 12:00:00                        01.01.2020 12:00  ...  NaN\n",
              "2020-01-01 09:00:00                        01.01.2020 09:00  ...    1\n",
              "...                                                     ...  ...  ...\n",
              "2015-01-01 04:00:00                        01.01.2015 04:00  ...  NaN\n",
              "2015-01-01 03:00:00                        01.01.2015 03:00  ...  NaN\n",
              "2015-01-01 02:00:00                        01.01.2015 02:00  ...  NaN\n",
              "2015-01-01 01:00:00                        01.01.2015 01:00  ...  NaN\n",
              "2015-01-01 00:00:00                        01.01.2015 00:00  ...  NaN\n",
              "\n",
              "[17647 rows x 29 columns]"
            ]
          },
          "metadata": {
            "tags": []
          },
          "execution_count": 28
        }
      ]
    },
    {
      "cell_type": "code",
      "metadata": {
        "id": "9MajLu4ReANT",
        "colab_type": "code",
        "colab": {}
      },
      "source": [
        "# DataFrame позволяет находить данные по условию (условие записывается в [])\n",
        "\n",
        "first_day = pd.Timestamp(day = 1, month = 12, year = 2017)  # Дата начала периода\n",
        "last_day = pd.Timestamp(day = 1, month = 1, year = 2019) # Дата конца периода\n",
        "data_crroped = data[data.index > first_day]\n",
        "data_crroped = data_crroped[data_crroped.index < last_day]"
      ],
      "execution_count": 0,
      "outputs": []
    },
    {
      "cell_type": "code",
      "metadata": {
        "id": "SCA4f5XQefLC",
        "colab_type": "code",
        "colab": {
          "base_uri": "https://localhost:8080/",
          "height": 282
        },
        "outputId": "1cf5030f-27b6-4404-9da7-e0eb7793d171"
      },
      "source": [
        "plt.plot(data_crroped.index, data_crroped['T'])"
      ],
      "execution_count": 59,
      "outputs": [
        {
          "output_type": "execute_result",
          "data": {
            "text/plain": [
              "[<matplotlib.lines.Line2D at 0x7ff76b84cba8>]"
            ]
          },
          "metadata": {
            "tags": []
          },
          "execution_count": 59
        },
        {
          "output_type": "display_data",
          "data": {
            "image/png": "[encoded data removed]",
            "text/plain": [
              "<Figure size 432x288 with 1 Axes>"
            ]
          },
          "metadata": {
            "tags": [],
            "needs_background": "light"
          }
        }
      ]
    },
    {
      "cell_type": "code",
      "metadata": {
        "id": "9RgzbH3qxWRj",
        "colab_type": "code",
        "colab": {
          "base_uri": "https://localhost:8080/",
          "height": 282
        },
        "outputId": "5d4d4b5c-895c-4cf1-acbd-b4c99dd0c0a3"
      },
      "source": [
        "plt.plot(data_crroped.index, data_crroped['Td'])"
      ],
      "execution_count": 60,
      "outputs": [
        {
          "output_type": "execute_result",
          "data": {
            "text/plain": [
              "[<matplotlib.lines.Line2D at 0x7ff76babe550>]"
            ]
          },
          "metadata": {
            "tags": []
          },
          "execution_count": 60
        },
        {
          "output_type": "display_data",
          "data": {
            "image/png": "[encoded data removed]",
            "text/plain": [
              "<Figure size 432x288 with 1 Axes>"
            ]
          },
          "metadata": {
            "tags": [],
            "needs_background": "light"
          }
        }
      ]
    }
  ]
}