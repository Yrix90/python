{
  "nbformat": 4,
  "nbformat_minor": 0,
  "metadata": {
    "colab": {
      "name": "Untitled1.ipynb",
      "provenance": [],
      "collapsed_sections": [],
      "authorship_tag": "ABX9TyOl5xGSaSfrSOdUEC97+t9N",
      "include_colab_link": true
    },
    "kernelspec": {
      "name": "python3",
      "display_name": "Python 3"
    }
  },
  "cells": [
    {
      "cell_type": "markdown",
      "metadata": {
        "id": "view-in-github",
        "colab_type": "text"
      },
      "source": [
        "<a href=\"https://colab.research.google.com/github/Yrix90/python/blob/master/DZ_2.ipynb\" target=\"_parent\"><img src=\"https://colab.research.google.com/assets/colab-badge.svg\" alt=\"Open In Colab\"/></a>"
      ]
    },
    {
      "cell_type": "code",
      "metadata": {
        "id": "F1-0D7Ek07vP",
        "colab_type": "code",
        "colab": {}
      },
      "source": [
        "import pandas as pd\n",
        "import matplotlib.pyplot as plt\n",
        "\n",
        "from pandas.plotting import autocorrelation_plot\n",
        "\n",
        "from sklearn.linear_model import LinearRegression\n",
        "from sklearn.tree import DecisionTreeRegressor"
      ],
      "execution_count": 0,
      "outputs": []
    },
    {
      "cell_type": "markdown",
      "metadata": {
        "id": "84CUmeTe1aBN",
        "colab_type": "text"
      },
      "source": [
        "Загружаем файл, пропускаем первые строки, так как там информация нас не интересующая"
      ]
    },
    {
      "cell_type": "code",
      "metadata": {
        "id": "KZmKCvui1Dqw",
        "colab_type": "code",
        "colab": {
          "base_uri": "https://localhost:8080/",
          "height": 402
        },
        "outputId": "68897991-02d9-46b0-c6d7-83c4a32b3274"
      },
      "source": [
        "data = pd.read_excel('https://github.com/anastasiarazb/skillbox-data-analyst-intensive/blob/master/%D0%90%D0%BD%D0%B0%D0%BB%D0%B8%D0%B7%20%D0%B4%D0%B0%D0%BD%D0%BD%D1%8B%D1%85%20%D0%94%D0%B5%D0%BD%D1%8C%202/IPG2211A2N.xls?raw=true', skiprows = 10)\n",
        "data"
      ],
      "execution_count": 6,
      "outputs": [
        {
          "output_type": "execute_result",
          "data": {
            "text/html": [
              "<div>\n",
              "<style scoped>\n",
              "    .dataframe tbody tr th:only-of-type {\n",
              "        vertical-align: middle;\n",
              "    }\n",
              "\n",
              "    .dataframe tbody tr th {\n",
              "        vertical-align: top;\n",
              "    }\n",
              "\n",
              "    .dataframe thead th {\n",
              "        text-align: right;\n",
              "    }\n",
              "</style>\n",
              "<table border=\"1\" class=\"dataframe\">\n",
              "  <thead>\n",
              "    <tr style=\"text-align: right;\">\n",
              "      <th></th>\n",
              "      <th>observation_date</th>\n",
              "      <th>IPG2211A2N</th>\n",
              "    </tr>\n",
              "  </thead>\n",
              "  <tbody>\n",
              "    <tr>\n",
              "      <th>0</th>\n",
              "      <td>1939-01-01</td>\n",
              "      <td>3.3842</td>\n",
              "    </tr>\n",
              "    <tr>\n",
              "      <th>1</th>\n",
              "      <td>1939-02-01</td>\n",
              "      <td>3.4100</td>\n",
              "    </tr>\n",
              "    <tr>\n",
              "      <th>2</th>\n",
              "      <td>1939-03-01</td>\n",
              "      <td>3.4875</td>\n",
              "    </tr>\n",
              "    <tr>\n",
              "      <th>3</th>\n",
              "      <td>1939-04-01</td>\n",
              "      <td>3.5133</td>\n",
              "    </tr>\n",
              "    <tr>\n",
              "      <th>4</th>\n",
              "      <td>1939-05-01</td>\n",
              "      <td>3.5133</td>\n",
              "    </tr>\n",
              "    <tr>\n",
              "      <th>...</th>\n",
              "      <td>...</td>\n",
              "      <td>...</td>\n",
              "    </tr>\n",
              "    <tr>\n",
              "      <th>967</th>\n",
              "      <td>2019-08-01</td>\n",
              "      <td>111.2697</td>\n",
              "    </tr>\n",
              "    <tr>\n",
              "      <th>968</th>\n",
              "      <td>2019-09-01</td>\n",
              "      <td>102.0033</td>\n",
              "    </tr>\n",
              "    <tr>\n",
              "      <th>969</th>\n",
              "      <td>2019-10-01</td>\n",
              "      <td>93.9993</td>\n",
              "    </tr>\n",
              "    <tr>\n",
              "      <th>970</th>\n",
              "      <td>2019-11-01</td>\n",
              "      <td>99.8843</td>\n",
              "    </tr>\n",
              "    <tr>\n",
              "      <th>971</th>\n",
              "      <td>2019-12-01</td>\n",
              "      <td>110.8611</td>\n",
              "    </tr>\n",
              "  </tbody>\n",
              "</table>\n",
              "<p>972 rows × 2 columns</p>\n",
              "</div>"
            ],
            "text/plain": [
              "    observation_date  IPG2211A2N\n",
              "0         1939-01-01      3.3842\n",
              "1         1939-02-01      3.4100\n",
              "2         1939-03-01      3.4875\n",
              "3         1939-04-01      3.5133\n",
              "4         1939-05-01      3.5133\n",
              "..               ...         ...\n",
              "967       2019-08-01    111.2697\n",
              "968       2019-09-01    102.0033\n",
              "969       2019-10-01     93.9993\n",
              "970       2019-11-01     99.8843\n",
              "971       2019-12-01    110.8611\n",
              "\n",
              "[972 rows x 2 columns]"
            ]
          },
          "metadata": {
            "tags": []
          },
          "execution_count": 6
        }
      ]
    },
    {
      "cell_type": "markdown",
      "metadata": {
        "id": "3yGuwmLr15VI",
        "colab_type": "text"
      },
      "source": [
        "Сортировка правильная\n",
        "\n",
        "Проверяем какие есть столбцы"
      ]
    },
    {
      "cell_type": "code",
      "metadata": {
        "id": "eXDzVAyA1_GA",
        "colab_type": "code",
        "colab": {
          "base_uri": "https://localhost:8080/",
          "height": 34
        },
        "outputId": "a6d37f8c-806f-47e0-de6d-f10c64f00a77"
      },
      "source": [
        "data.columns"
      ],
      "execution_count": 8,
      "outputs": [
        {
          "output_type": "execute_result",
          "data": {
            "text/plain": [
              "Index(['observation_date', 'IPG2211A2N'], dtype='object')"
            ]
          },
          "metadata": {
            "tags": []
          },
          "execution_count": 8
        }
      ]
    },
    {
      "cell_type": "markdown",
      "metadata": {
        "id": "2J8cduqL2fcM",
        "colab_type": "text"
      },
      "source": [
        "Построим общий график функцией plot()\n",
        "и график усредненых значений с промежутком 12 т.е. 1 год (оранжевый) и 5 лет (зеленый)"
      ]
    },
    {
      "cell_type": "code",
      "metadata": {
        "id": "NuX_HHLe-tqr",
        "colab_type": "code",
        "colab": {
          "base_uri": "https://localhost:8080/",
          "height": 282
        },
        "outputId": "495ff354-449a-44e5-9c4d-e16fb524fbee"
      },
      "source": [
        "plt.plot(data['observation_date'], data['IPG2211A2N'])\n",
        "plt.plot(data['observation_date'], data['IPG2211A2N'].rolling(12).mean())\n",
        "plt.plot(data['observation_date'], data['IPG2211A2N'].rolling(60).mean())"
      ],
      "execution_count": 33,
      "outputs": [
        {
          "output_type": "execute_result",
          "data": {
            "text/plain": [
              "[<matplotlib.lines.Line2D at 0x7f51d9b24a58>]"
            ]
          },
          "metadata": {
            "tags": []
          },
          "execution_count": 33
        },
        {
          "output_type": "display_data",
          "data": {
            "image/png": "[encoded data removed]",
            "text/plain": [
              "<Figure size 432x288 with 1 Axes>"
            ]
          },
          "metadata": {
            "tags": [],
            "needs_background": "light"
          }
        }
      ]
    },
    {
      "cell_type": "markdown",
      "metadata": {
        "id": "rOu55_v53GYc",
        "colab_type": "text"
      },
      "source": [
        "найдем максимальное, минимальное и среднее значение встроенными функциями max(), min(), mean()"
      ]
    },
    {
      "cell_type": "code",
      "metadata": {
        "id": "bctjHZuN3Mgn",
        "colab_type": "code",
        "colab": {
          "base_uri": "https://localhost:8080/",
          "height": 34
        },
        "outputId": "5c7dab27-c87f-402c-a3e7-99ee5a1cd377"
      },
      "source": [
        "max = data['IPG2211A2N'].max()\n",
        "min = data['IPG2211A2N'].min()\n",
        "mean = data['IPG2211A2N'].mean()\n",
        "print('max = ', max, '| min = ', min, '| mean = ', mean)"
      ],
      "execution_count": 14,
      "outputs": [
        {
          "output_type": "stream",
          "text": [
            "max =  128.9071 | min =  3.3842 | mean =  54.8019669753087\n"
          ],
          "name": "stdout"
        }
      ]
    },
    {
      "cell_type": "markdown",
      "metadata": {
        "id": "JTFldXcfBM8F",
        "colab_type": "text"
      },
      "source": [
        "Это общие значения за 60 лет. Получим данные за каждый год"
      ]
    },
    {
      "cell_type": "code",
      "metadata": {
        "id": "ZokaOCRMCBXl",
        "colab_type": "code",
        "colab": {}
      },
      "source": [
        ""
      ],
      "execution_count": 0,
      "outputs": []
    },
    {
      "cell_type": "markdown",
      "metadata": {
        "id": "9HV-uRhr3_oV",
        "colab_type": "text"
      },
      "source": [
        "Выведим график наиболее встречающихся значений функцией hist()"
      ]
    },
    {
      "cell_type": "code",
      "metadata": {
        "id": "jqMvS7kX32Q5",
        "colab_type": "code",
        "colab": {
          "base_uri": "https://localhost:8080/",
          "height": 282
        },
        "outputId": "7411ac06-5a22-490d-cab5-70afa78e8679"
      },
      "source": [
        "data['IPG2211A2N'].hist()"
      ],
      "execution_count": 15,
      "outputs": [
        {
          "output_type": "execute_result",
          "data": {
            "text/plain": [
              "<matplotlib.axes._subplots.AxesSubplot at 0x7f51dd144dd8>"
            ]
          },
          "metadata": {
            "tags": []
          },
          "execution_count": 15
        },
        {
          "output_type": "display_data",
          "data": {
            "image/png": "[encoded data removed]",
            "text/plain": [
              "<Figure size 432x288 with 1 Axes>"
            ]
          },
          "metadata": {
            "tags": [],
            "needs_background": "light"
          }
        }
      ]
    },
    {
      "cell_type": "markdown",
      "metadata": {
        "id": "Fet65piR6uON",
        "colab_type": "text"
      },
      "source": [
        "По данному графику можно судить о том, что значение до 20 встречается чаще, а дальше частота примерно на одном уровне. Это соответсвует общему графику\n",
        "![image.png](data:image/png;base64,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)\n"
      ]
    },
    {
      "cell_type": "markdown",
      "metadata": {
        "id": "n5QjefjD72SR",
        "colab_type": "text"
      },
      "source": [
        "Найдем квантили встроенной функцией quantile()"
      ]
    },
    {
      "cell_type": "code",
      "metadata": {
        "id": "N1lt1Agk4cyz",
        "colab_type": "code",
        "colab": {
          "base_uri": "https://localhost:8080/",
          "height": 34
        },
        "outputId": "b77c8d3d-ebc7-4d6d-990b-bb308169a90c"
      },
      "source": [
        "quantile_95 = data['IPG2211A2N'].quantile(0.95)\n",
        "quantile_95"
      ],
      "execution_count": 17,
      "outputs": [
        {
          "output_type": "execute_result",
          "data": {
            "text/plain": [
              "109.80760999999998"
            ]
          },
          "metadata": {
            "tags": []
          },
          "execution_count": 17
        }
      ]
    },
    {
      "cell_type": "code",
      "metadata": {
        "id": "GkcUqgX14pbU",
        "colab_type": "code",
        "colab": {
          "base_uri": "https://localhost:8080/",
          "height": 34
        },
        "outputId": "d925edfd-b14e-4d56-92aa-744234232090"
      },
      "source": [
        "quantile_05 = data['IPG2211A2N'].quantile(0.05)\n",
        "quantile_05"
      ],
      "execution_count": 18,
      "outputs": [
        {
          "output_type": "execute_result",
          "data": {
            "text/plain": [
              "5.284245"
            ]
          },
          "metadata": {
            "tags": []
          },
          "execution_count": 18
        }
      ]
    },
    {
      "cell_type": "code",
      "metadata": {
        "id": "c6Lhs4xJ4zI9",
        "colab_type": "code",
        "colab": {
          "base_uri": "https://localhost:8080/",
          "height": 282
        },
        "outputId": "f67dcc39-7b27-4005-ed01-e0ac5f1f0849"
      },
      "source": [
        "data['IPG2211A2N'].plot()\n",
        "plt.plot(data.index, [quantile_95] * len(data.index))\n",
        "plt.plot(data.index, [quantile_05] * len(data.index))"
      ],
      "execution_count": 19,
      "outputs": [
        {
          "output_type": "execute_result",
          "data": {
            "text/plain": [
              "[<matplotlib.lines.Line2D at 0x7f51dcbbfcc0>]"
            ]
          },
          "metadata": {
            "tags": []
          },
          "execution_count": 19
        },
        {
          "output_type": "display_data",
          "data": {
            "image/png": "[encoded data removed]",
            "text/plain": [
              "<Figure size 432x288 with 1 Axes>"
            ]
          },
          "metadata": {
            "tags": [],
            "needs_background": "light"
          }
        }
      ]
    },
    {
      "cell_type": "markdown",
      "metadata": {
        "id": "vqoSrc5l7x7N",
        "colab_type": "text"
      },
      "source": [
        "Данные о квантилях не дают нам полезной информации, график восходящий и если его продолжить то и верхний квантиль будет возростать. "
      ]
    },
    {
      "cell_type": "markdown",
      "metadata": {
        "id": "QBJIZEig9n_O",
        "colab_type": "text"
      },
      "source": [
        "График автокорреляции autocorrelation_plot"
      ]
    },
    {
      "cell_type": "code",
      "metadata": {
        "id": "a2GQnoxR4-S4",
        "colab_type": "code",
        "colab": {
          "base_uri": "https://localhost:8080/",
          "height": 300
        },
        "outputId": "63a128af-f76b-489e-b889-cff9e5f0d14b"
      },
      "source": [
        "autocorrelation_plot(data['IPG2211A2N'])"
      ],
      "execution_count": 20,
      "outputs": [
        {
          "output_type": "execute_result",
          "data": {
            "text/plain": [
              "<matplotlib.axes._subplots.AxesSubplot at 0x7f51dcb88f60>"
            ]
          },
          "metadata": {
            "tags": []
          },
          "execution_count": 20
        },
        {
          "output_type": "display_data",
          "data": {
            "image/png": "[encoded data removed]",
            "text/plain": [
              "<Figure size 432x288 with 1 Axes>"
            ]
          },
          "metadata": {
            "tags": [],
            "needs_background": "light"
          }
        }
      ]
    },
    {
      "cell_type": "markdown",
      "metadata": {
        "id": "lbFzSh-292M8",
        "colab_type": "text"
      },
      "source": [
        "Из данного графика можно сделать вывод, что данные не повторяются с какой либо периодичностью, что соответсвует первоначальному графику.\n",
        "Данные растут постепенно"
      ]
    },
    {
      "cell_type": "markdown",
      "metadata": {
        "id": "GUx487FNEemT",
        "colab_type": "text"
      },
      "source": [
        "Строим регрессию, прямую линию между точками"
      ]
    },
    {
      "cell_type": "code",
      "metadata": {
        "id": "ae1SMVIqCWnN",
        "colab_type": "code",
        "colab": {}
      },
      "source": [
        "regressor = LinearRegression()"
      ],
      "execution_count": 0,
      "outputs": []
    },
    {
      "cell_type": "markdown",
      "metadata": {
        "id": "zNiu6mimEmST",
        "colab_type": "text"
      },
      "source": [
        "x_range список последовательности чисел длинной dataset"
      ]
    },
    {
      "cell_type": "code",
      "metadata": {
        "id": "fzRO3in3CdeC",
        "colab_type": "code",
        "colab": {}
      },
      "source": [
        "x_range = list(range(0, len(data)))"
      ],
      "execution_count": 0,
      "outputs": []
    },
    {
      "cell_type": "markdown",
      "metadata": {
        "id": "cJSxsEweFLwq",
        "colab_type": "text"
      },
      "source": [
        "table таблица c 1 столбцом\n",
        "\n"
      ]
    },
    {
      "cell_type": "code",
      "metadata": {
        "id": "x3IVlQYPCg_2",
        "colab_type": "code",
        "colab": {
          "base_uri": "https://localhost:8080/",
          "height": 402
        },
        "outputId": "d7646e53-48c0-46bc-b7a2-270c50078a01"
      },
      "source": [
        "table = pd.DataFrame(x_range)"
      ],
      "execution_count": 36,
      "outputs": [
        {
          "output_type": "execute_result",
          "data": {
            "text/html": [
              "<div>\n",
              "<style scoped>\n",
              "    .dataframe tbody tr th:only-of-type {\n",
              "        vertical-align: middle;\n",
              "    }\n",
              "\n",
              "    .dataframe tbody tr th {\n",
              "        vertical-align: top;\n",
              "    }\n",
              "\n",
              "    .dataframe thead th {\n",
              "        text-align: right;\n",
              "    }\n",
              "</style>\n",
              "<table border=\"1\" class=\"dataframe\">\n",
              "  <thead>\n",
              "    <tr style=\"text-align: right;\">\n",
              "      <th></th>\n",
              "      <th>0</th>\n",
              "    </tr>\n",
              "  </thead>\n",
              "  <tbody>\n",
              "    <tr>\n",
              "      <th>0</th>\n",
              "      <td>0</td>\n",
              "    </tr>\n",
              "    <tr>\n",
              "      <th>1</th>\n",
              "      <td>1</td>\n",
              "    </tr>\n",
              "    <tr>\n",
              "      <th>2</th>\n",
              "      <td>2</td>\n",
              "    </tr>\n",
              "    <tr>\n",
              "      <th>3</th>\n",
              "      <td>3</td>\n",
              "    </tr>\n",
              "    <tr>\n",
              "      <th>4</th>\n",
              "      <td>4</td>\n",
              "    </tr>\n",
              "    <tr>\n",
              "      <th>...</th>\n",
              "      <td>...</td>\n",
              "    </tr>\n",
              "    <tr>\n",
              "      <th>967</th>\n",
              "      <td>967</td>\n",
              "    </tr>\n",
              "    <tr>\n",
              "      <th>968</th>\n",
              "      <td>968</td>\n",
              "    </tr>\n",
              "    <tr>\n",
              "      <th>969</th>\n",
              "      <td>969</td>\n",
              "    </tr>\n",
              "    <tr>\n",
              "      <th>970</th>\n",
              "      <td>970</td>\n",
              "    </tr>\n",
              "    <tr>\n",
              "      <th>971</th>\n",
              "      <td>971</td>\n",
              "    </tr>\n",
              "  </tbody>\n",
              "</table>\n",
              "<p>972 rows × 1 columns</p>\n",
              "</div>"
            ],
            "text/plain": [
              "       0\n",
              "0      0\n",
              "1      1\n",
              "2      2\n",
              "3      3\n",
              "4      4\n",
              "..   ...\n",
              "967  967\n",
              "968  968\n",
              "969  969\n",
              "970  970\n",
              "971  971\n",
              "\n",
              "[972 rows x 1 columns]"
            ]
          },
          "metadata": {
            "tags": []
          },
          "execution_count": 36
        }
      ]
    },
    {
      "cell_type": "markdown",
      "metadata": {
        "id": "HTmpiFxiGdDS",
        "colab_type": "text"
      },
      "source": [
        "Строим линейную регрессию"
      ]
    },
    {
      "cell_type": "code",
      "metadata": {
        "id": "P0go8yNgCsYP",
        "colab_type": "code",
        "colab": {
          "base_uri": "https://localhost:8080/",
          "height": 34
        },
        "outputId": "4790c393-ec0b-4d3b-f8e4-d4d0e5913d84"
      },
      "source": [
        "regressor.fit(pd.DataFrame(x_range), data['IPG2211A2N'])"
      ],
      "execution_count": 37,
      "outputs": [
        {
          "output_type": "execute_result",
          "data": {
            "text/plain": [
              "LinearRegression(copy_X=True, fit_intercept=True, n_jobs=None, normalize=False)"
            ]
          },
          "metadata": {
            "tags": []
          },
          "execution_count": 37
        }
      ]
    },
    {
      "cell_type": "markdown",
      "metadata": {
        "id": "vC5UdtcUGmuW",
        "colab_type": "text"
      },
      "source": [
        "Выводим график линейной регрессии"
      ]
    },
    {
      "cell_type": "code",
      "metadata": {
        "id": "kPLwgz4WC32i",
        "colab_type": "code",
        "colab": {
          "base_uri": "https://localhost:8080/",
          "height": 282
        },
        "outputId": "ad0ad513-8d4f-4e1e-89a8-15838b29f30b"
      },
      "source": [
        "data['IPG2211A2N'].plot()\n",
        "plt.plot(data.index, regressor.predict(pd.DataFrame(x_range)))"
      ],
      "execution_count": 40,
      "outputs": [
        {
          "output_type": "execute_result",
          "data": {
            "text/plain": [
              "[<matplotlib.lines.Line2D at 0x7f51dcb916d8>]"
            ]
          },
          "metadata": {
            "tags": []
          },
          "execution_count": 40
        },
        {
          "output_type": "display_data",
          "data": {
            "image/png": "[encoded data removed]",
            "text/plain": [
              "<Figure size 432x288 with 1 Axes>"
            ]
          },
          "metadata": {
            "tags": [],
            "needs_background": "light"
          }
        }
      ]
    },
    {
      "cell_type": "markdown",
      "metadata": {
        "id": "u5nplsdFGtwr",
        "colab_type": "text"
      },
      "source": [
        "Вывод:\n",
        "Значения по данному dataset линейно увеличиваются с каждым годом о чем свидетельстует модель линейной регрессии и построенный график по данным из dataset."
      ]
    }
  ]
}